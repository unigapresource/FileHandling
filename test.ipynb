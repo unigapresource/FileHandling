{
 "cells": [
  {
   "cell_type": "code",
   "execution_count": 9,
   "metadata": {},
   "outputs": [],
   "source": [
    "from io import TextIOWrapper"
   ]
  },
  {
   "cell_type": "code",
   "execution_count": null,
   "metadata": {},
   "outputs": [],
   "source": [
    "def open_file(file_path: str):\n",
    "    # TODO\n",
    "    # Fill here\n",
    "    pass\n",
    "\n",
    "def write_to_file(file_operator: TextIOWrapper, text: str, line: int):\n",
    "    # TODO\n",
    "    # Fill here\n",
    "    pass\n",
    "\n",
    "def print_file(file_operator: TextIOWrapper):\n",
    "    # TODO\n",
    "    # Fill here\n",
    "    pass"
   ]
  },
  {
   "cell_type": "code",
   "execution_count": null,
   "metadata": {},
   "outputs": [],
   "source": []
  }
 ],
 "metadata": {
  "kernelspec": {
   "display_name": "Python 3",
   "language": "python",
   "name": "python3"
  },
  "language_info": {
   "codemirror_mode": {
    "name": "ipython",
    "version": 3
   },
   "file_extension": ".py",
   "mimetype": "text/x-python",
   "name": "python",
   "nbconvert_exporter": "python",
   "pygments_lexer": "ipython3",
   "version": "3.11.8"
  }
 },
 "nbformat": 4,
 "nbformat_minor": 2
}
